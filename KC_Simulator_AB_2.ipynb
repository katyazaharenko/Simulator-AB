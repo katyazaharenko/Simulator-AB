{
 "cells": [
  {
   "cell_type": "markdown",
   "id": "299bca5e-7875-4b2d-a3e7-37f7accec67d",
   "metadata": {},
   "source": [
    "## Задача 1. Отличия до эксперимента\n",
    "  \n",
    "\n",
    "Возьмите те же группы, что и в эксперименте с изменением дизайна сайта, и проверьте значимость отличий средней выручки с пользователя на неделе перед экспериментом (c 2022.03.16 по 2022.03.23).\n",
    "\n",
    "Для решения используйте данные из файлов 2022-04-01T12_df_sales.csv и experiment_users.csv.\n",
    "\n",
    "В качестве ответа введите p-value, округлённое до 3-го знака после точки."
   ]
  },
  {
   "cell_type": "code",
   "execution_count": 26,
   "id": "56cd6145-58c9-4185-bf4f-804fa95f32f2",
   "metadata": {},
   "outputs": [],
   "source": [
    "import pandas as pd\n",
    "import scipy.stats as stats"
   ]
  },
  {
   "cell_type": "code",
   "execution_count": 11,
   "id": "db9267c4-ef47-4525-888f-3342f31abe45",
   "metadata": {},
   "outputs": [],
   "source": [
    "sales_df = pd.read_csv(\"2022-04-01T12_df_sales.csv\")\n",
    "exp_df = pd.read_csv(\"experiment_users.csv\")\n",
    "sales_df['date'] = pd.to_datetime(sales_df['date'])"
   ]
  },
  {
   "cell_type": "code",
   "execution_count": 4,
   "id": "858d2f5c-3a4f-417c-9944-806382efce48",
   "metadata": {},
   "outputs": [
    {
     "data": {
      "text/html": [
       "<div>\n",
       "<style scoped>\n",
       "    .dataframe tbody tr th:only-of-type {\n",
       "        vertical-align: middle;\n",
       "    }\n",
       "\n",
       "    .dataframe tbody tr th {\n",
       "        vertical-align: top;\n",
       "    }\n",
       "\n",
       "    .dataframe thead th {\n",
       "        text-align: right;\n",
       "    }\n",
       "</style>\n",
       "<table border=\"1\" class=\"dataframe\">\n",
       "  <thead>\n",
       "    <tr style=\"text-align: right;\">\n",
       "      <th></th>\n",
       "      <th>sale_id</th>\n",
       "      <th>date</th>\n",
       "      <th>count_pizza</th>\n",
       "      <th>count_drink</th>\n",
       "      <th>price</th>\n",
       "      <th>user_id</th>\n",
       "    </tr>\n",
       "  </thead>\n",
       "  <tbody>\n",
       "    <tr>\n",
       "      <th>0</th>\n",
       "      <td>1000001</td>\n",
       "      <td>2022-02-04 10:00:24</td>\n",
       "      <td>1</td>\n",
       "      <td>0</td>\n",
       "      <td>720</td>\n",
       "      <td>1c1543</td>\n",
       "    </tr>\n",
       "    <tr>\n",
       "      <th>1</th>\n",
       "      <td>1000002</td>\n",
       "      <td>2022-02-04 10:02:28</td>\n",
       "      <td>1</td>\n",
       "      <td>1</td>\n",
       "      <td>930</td>\n",
       "      <td>a9a6e8</td>\n",
       "    </tr>\n",
       "    <tr>\n",
       "      <th>2</th>\n",
       "      <td>1000003</td>\n",
       "      <td>2022-02-04 10:02:35</td>\n",
       "      <td>3</td>\n",
       "      <td>1</td>\n",
       "      <td>1980</td>\n",
       "      <td>23420a</td>\n",
       "    </tr>\n",
       "    <tr>\n",
       "      <th>3</th>\n",
       "      <td>1000004</td>\n",
       "      <td>2022-02-04 10:03:06</td>\n",
       "      <td>1</td>\n",
       "      <td>1</td>\n",
       "      <td>750</td>\n",
       "      <td>3e8ed5</td>\n",
       "    </tr>\n",
       "    <tr>\n",
       "      <th>4</th>\n",
       "      <td>1000005</td>\n",
       "      <td>2022-02-04 10:03:23</td>\n",
       "      <td>1</td>\n",
       "      <td>1</td>\n",
       "      <td>870</td>\n",
       "      <td>cbc468</td>\n",
       "    </tr>\n",
       "  </tbody>\n",
       "</table>\n",
       "</div>"
      ],
      "text/plain": [
       "   sale_id                 date  count_pizza  count_drink  price user_id\n",
       "0  1000001  2022-02-04 10:00:24            1            0    720  1c1543\n",
       "1  1000002  2022-02-04 10:02:28            1            1    930  a9a6e8\n",
       "2  1000003  2022-02-04 10:02:35            3            1   1980  23420a\n",
       "3  1000004  2022-02-04 10:03:06            1            1    750  3e8ed5\n",
       "4  1000005  2022-02-04 10:03:23            1            1    870  cbc468"
      ]
     },
     "execution_count": 4,
     "metadata": {},
     "output_type": "execute_result"
    }
   ],
   "source": [
    "sales_df.head()"
   ]
  },
  {
   "cell_type": "code",
   "execution_count": 7,
   "id": "5b1ecf01-9a0c-4f1d-98ca-26138f840b01",
   "metadata": {},
   "outputs": [
    {
     "data": {
      "text/html": [
       "<div>\n",
       "<style scoped>\n",
       "    .dataframe tbody tr th:only-of-type {\n",
       "        vertical-align: middle;\n",
       "    }\n",
       "\n",
       "    .dataframe tbody tr th {\n",
       "        vertical-align: top;\n",
       "    }\n",
       "\n",
       "    .dataframe thead th {\n",
       "        text-align: right;\n",
       "    }\n",
       "</style>\n",
       "<table border=\"1\" class=\"dataframe\">\n",
       "  <thead>\n",
       "    <tr style=\"text-align: right;\">\n",
       "      <th></th>\n",
       "      <th>user_id</th>\n",
       "      <th>pilot</th>\n",
       "    </tr>\n",
       "  </thead>\n",
       "  <tbody>\n",
       "    <tr>\n",
       "      <th>0</th>\n",
       "      <td>0ffc65</td>\n",
       "      <td>0</td>\n",
       "    </tr>\n",
       "    <tr>\n",
       "      <th>1</th>\n",
       "      <td>b962b9</td>\n",
       "      <td>0</td>\n",
       "    </tr>\n",
       "    <tr>\n",
       "      <th>2</th>\n",
       "      <td>7ea63f</td>\n",
       "      <td>0</td>\n",
       "    </tr>\n",
       "    <tr>\n",
       "      <th>3</th>\n",
       "      <td>7f9a61</td>\n",
       "      <td>0</td>\n",
       "    </tr>\n",
       "    <tr>\n",
       "      <th>4</th>\n",
       "      <td>459e55</td>\n",
       "      <td>0</td>\n",
       "    </tr>\n",
       "  </tbody>\n",
       "</table>\n",
       "</div>"
      ],
      "text/plain": [
       "  user_id  pilot\n",
       "0  0ffc65      0\n",
       "1  b962b9      0\n",
       "2  7ea63f      0\n",
       "3  7f9a61      0\n",
       "4  459e55      0"
      ]
     },
     "execution_count": 7,
     "metadata": {},
     "output_type": "execute_result"
    }
   ],
   "source": [
    "exp_df.head()"
   ]
  },
  {
   "cell_type": "code",
   "execution_count": 76,
   "id": "3421061d-eaf5-4ef0-8b87-636f2e31d27a",
   "metadata": {},
   "outputs": [],
   "source": [
    "exp_period = pd.date_range(\"2022-03-16\", \"2022-03-23\")"
   ]
  },
  {
   "cell_type": "code",
   "execution_count": 87,
   "id": "047cc0ff-e783-4894-b5d5-4964ceb06d84",
   "metadata": {},
   "outputs": [],
   "source": [
    "sales_df = sales_df[(sales_df['date'] >= exp_period[0]) & (sales_df['date'] < exp_period[-1])]\\\n",
    "    .groupby(\"user_id\", as_index=False)['price'].sum()"
   ]
  },
  {
   "cell_type": "code",
   "execution_count": 89,
   "id": "5a0ef701-eab4-4163-a167-d8a6936488ca",
   "metadata": {},
   "outputs": [
    {
     "data": {
      "text/html": [
       "<div>\n",
       "<style scoped>\n",
       "    .dataframe tbody tr th:only-of-type {\n",
       "        vertical-align: middle;\n",
       "    }\n",
       "\n",
       "    .dataframe tbody tr th {\n",
       "        vertical-align: top;\n",
       "    }\n",
       "\n",
       "    .dataframe thead th {\n",
       "        text-align: right;\n",
       "    }\n",
       "</style>\n",
       "<table border=\"1\" class=\"dataframe\">\n",
       "  <thead>\n",
       "    <tr style=\"text-align: right;\">\n",
       "      <th></th>\n",
       "      <th>user_id</th>\n",
       "      <th>price</th>\n",
       "    </tr>\n",
       "  </thead>\n",
       "  <tbody>\n",
       "    <tr>\n",
       "      <th>0</th>\n",
       "      <td>000096</td>\n",
       "      <td>720</td>\n",
       "    </tr>\n",
       "    <tr>\n",
       "      <th>1</th>\n",
       "      <td>00092c</td>\n",
       "      <td>780</td>\n",
       "    </tr>\n",
       "    <tr>\n",
       "      <th>2</th>\n",
       "      <td>000bb2</td>\n",
       "      <td>720</td>\n",
       "    </tr>\n",
       "    <tr>\n",
       "      <th>3</th>\n",
       "      <td>000ea9</td>\n",
       "      <td>1560</td>\n",
       "    </tr>\n",
       "    <tr>\n",
       "      <th>4</th>\n",
       "      <td>000ec6</td>\n",
       "      <td>690</td>\n",
       "    </tr>\n",
       "    <tr>\n",
       "      <th>...</th>\n",
       "      <td>...</td>\n",
       "      <td>...</td>\n",
       "    </tr>\n",
       "    <tr>\n",
       "      <th>24595</th>\n",
       "      <td>fff3ec</td>\n",
       "      <td>660</td>\n",
       "    </tr>\n",
       "    <tr>\n",
       "      <th>24596</th>\n",
       "      <td>fff6b5</td>\n",
       "      <td>3480</td>\n",
       "    </tr>\n",
       "    <tr>\n",
       "      <th>24597</th>\n",
       "      <td>fff8bf</td>\n",
       "      <td>2880</td>\n",
       "    </tr>\n",
       "    <tr>\n",
       "      <th>24598</th>\n",
       "      <td>fff98d</td>\n",
       "      <td>3480</td>\n",
       "    </tr>\n",
       "    <tr>\n",
       "      <th>24599</th>\n",
       "      <td>ffff62</td>\n",
       "      <td>2220</td>\n",
       "    </tr>\n",
       "  </tbody>\n",
       "</table>\n",
       "<p>24600 rows × 2 columns</p>\n",
       "</div>"
      ],
      "text/plain": [
       "      user_id  price\n",
       "0      000096    720\n",
       "1      00092c    780\n",
       "2      000bb2    720\n",
       "3      000ea9   1560\n",
       "4      000ec6    690\n",
       "...       ...    ...\n",
       "24595  fff3ec    660\n",
       "24596  fff6b5   3480\n",
       "24597  fff8bf   2880\n",
       "24598  fff98d   3480\n",
       "24599  ffff62   2220\n",
       "\n",
       "[24600 rows x 2 columns]"
      ]
     },
     "execution_count": 89,
     "metadata": {},
     "output_type": "execute_result"
    }
   ],
   "source": [
    "sales_df"
   ]
  },
  {
   "cell_type": "code",
   "execution_count": 96,
   "id": "e2a3b2ef-dacb-4e90-8e3b-e6d8a1c662a9",
   "metadata": {},
   "outputs": [],
   "source": [
    "control_revenue = exp_df[exp_df['pilot'] == 0].merge(sales_df, how='left')['price'].fillna(0)"
   ]
  },
  {
   "cell_type": "code",
   "execution_count": 97,
   "id": "d1487a64-d91f-4509-ab7e-8932b0e182c3",
   "metadata": {},
   "outputs": [],
   "source": [
    "pilot_revenue = exp_df[exp_df['pilot'] == 1].merge(sales_df, how='left')['price'].fillna(0)"
   ]
  },
  {
   "cell_type": "code",
   "execution_count": null,
   "id": "05b68d2c-cfbf-41aa-b51e-cdfa022ac6d6",
   "metadata": {},
   "outputs": [],
   "source": []
  },
  {
   "cell_type": "code",
   "execution_count": 98,
   "id": "2572b30b-0bde-4b08-950a-56eedf42e668",
   "metadata": {},
   "outputs": [],
   "source": [
    "result = stats.ttest_ind(control_revenue, pilot_revenue)"
   ]
  },
  {
   "cell_type": "code",
   "execution_count": 99,
   "id": "c606050d-26a7-4959-9bf2-529347850a66",
   "metadata": {},
   "outputs": [
    {
     "data": {
      "text/plain": [
       "(np.float64(0.199), np.float64(-1.2837567415000515))"
      ]
     },
     "execution_count": 99,
     "metadata": {},
     "output_type": "execute_result"
    }
   ],
   "source": [
    "round(result.pvalue, 3), result.statistic"
   ]
  },
  {
   "cell_type": "code",
   "execution_count": null,
   "id": "07e4b918-ce65-4730-8d61-2517672ff2e1",
   "metadata": {},
   "outputs": [],
   "source": []
  },
  {
   "cell_type": "markdown",
   "id": "1bef6cae-a656-44a1-a00e-d53ec86f2754",
   "metadata": {},
   "source": [
    "## Задача 2. Среднее время между покупками\n",
    "  \n",
    "\n",
    "При выполнении прошлого задания вы могли заметить, что в данных много нулей. Это значит, что большая часть пользователей, совершивших покупку во время эксперимента, не совершала покупок на неделе до эксперимента. Интересно, как часто наши клиенты делают покупки?\n",
    "\n",
    "Оцените среднее время между покупками. Возьмите всех клиентов, у которых 2 и более покупок. Вычислите время между покупками (для клиента с N покупками должно получиться N-1 значения времени). Объедините значения всех клиентов и вычислите среднее.\n",
    "\n",
    "Для решения используйте данные из файлов 2022-04-01T12_df_sales.csv.\n",
    "\n",
    "В качестве ответа введите среднее количество дней между покупками, округлённое до целого значения."
   ]
  },
  {
   "cell_type": "code",
   "execution_count": 102,
   "id": "0bc9790b-50bb-401f-bdf8-16be4b4eb1fa",
   "metadata": {},
   "outputs": [],
   "source": [
    "import pandas as pd"
   ]
  },
  {
   "cell_type": "code",
   "execution_count": 103,
   "id": "60f44c31-ee1a-43cc-a6c6-6e10c6683756",
   "metadata": {},
   "outputs": [],
   "source": [
    "sales_df = pd.read_csv(\"2022-04-01T12_df_sales.csv\")"
   ]
  },
  {
   "cell_type": "code",
   "execution_count": 104,
   "id": "1e996ec4-f447-4b42-9a0c-60476e5916a6",
   "metadata": {},
   "outputs": [
    {
     "data": {
      "text/html": [
       "<div>\n",
       "<style scoped>\n",
       "    .dataframe tbody tr th:only-of-type {\n",
       "        vertical-align: middle;\n",
       "    }\n",
       "\n",
       "    .dataframe tbody tr th {\n",
       "        vertical-align: top;\n",
       "    }\n",
       "\n",
       "    .dataframe thead th {\n",
       "        text-align: right;\n",
       "    }\n",
       "</style>\n",
       "<table border=\"1\" class=\"dataframe\">\n",
       "  <thead>\n",
       "    <tr style=\"text-align: right;\">\n",
       "      <th></th>\n",
       "      <th>sale_id</th>\n",
       "      <th>date</th>\n",
       "      <th>count_pizza</th>\n",
       "      <th>count_drink</th>\n",
       "      <th>price</th>\n",
       "      <th>user_id</th>\n",
       "    </tr>\n",
       "  </thead>\n",
       "  <tbody>\n",
       "    <tr>\n",
       "      <th>0</th>\n",
       "      <td>1000001</td>\n",
       "      <td>2022-02-04 10:00:24</td>\n",
       "      <td>1</td>\n",
       "      <td>0</td>\n",
       "      <td>720</td>\n",
       "      <td>1c1543</td>\n",
       "    </tr>\n",
       "    <tr>\n",
       "      <th>1</th>\n",
       "      <td>1000002</td>\n",
       "      <td>2022-02-04 10:02:28</td>\n",
       "      <td>1</td>\n",
       "      <td>1</td>\n",
       "      <td>930</td>\n",
       "      <td>a9a6e8</td>\n",
       "    </tr>\n",
       "    <tr>\n",
       "      <th>2</th>\n",
       "      <td>1000003</td>\n",
       "      <td>2022-02-04 10:02:35</td>\n",
       "      <td>3</td>\n",
       "      <td>1</td>\n",
       "      <td>1980</td>\n",
       "      <td>23420a</td>\n",
       "    </tr>\n",
       "    <tr>\n",
       "      <th>3</th>\n",
       "      <td>1000004</td>\n",
       "      <td>2022-02-04 10:03:06</td>\n",
       "      <td>1</td>\n",
       "      <td>1</td>\n",
       "      <td>750</td>\n",
       "      <td>3e8ed5</td>\n",
       "    </tr>\n",
       "    <tr>\n",
       "      <th>4</th>\n",
       "      <td>1000005</td>\n",
       "      <td>2022-02-04 10:03:23</td>\n",
       "      <td>1</td>\n",
       "      <td>1</td>\n",
       "      <td>870</td>\n",
       "      <td>cbc468</td>\n",
       "    </tr>\n",
       "  </tbody>\n",
       "</table>\n",
       "</div>"
      ],
      "text/plain": [
       "   sale_id                 date  count_pizza  count_drink  price user_id\n",
       "0  1000001  2022-02-04 10:00:24            1            0    720  1c1543\n",
       "1  1000002  2022-02-04 10:02:28            1            1    930  a9a6e8\n",
       "2  1000003  2022-02-04 10:02:35            3            1   1980  23420a\n",
       "3  1000004  2022-02-04 10:03:06            1            1    750  3e8ed5\n",
       "4  1000005  2022-02-04 10:03:23            1            1    870  cbc468"
      ]
     },
     "execution_count": 104,
     "metadata": {},
     "output_type": "execute_result"
    }
   ],
   "source": [
    "sales_df.head()"
   ]
  },
  {
   "cell_type": "code",
   "execution_count": 105,
   "id": "cbd29eb5-984e-418e-b00a-d46c86ad05c5",
   "metadata": {},
   "outputs": [],
   "source": [
    "sales_df['date'] = pd.to_datetime(sales_df['date'])"
   ]
  },
  {
   "cell_type": "code",
   "execution_count": 111,
   "id": "84a7deef-73da-4de1-930b-430fea1499a1",
   "metadata": {},
   "outputs": [],
   "source": [
    "time_diff = sales_df.sort_values([\"user_id\", \"date\"]).groupby('user_id')[\"date\"].diff()"
   ]
  },
  {
   "cell_type": "code",
   "execution_count": 113,
   "id": "853c01b2-0d87-4042-8c7c-e6ede4020f4d",
   "metadata": {},
   "outputs": [
    {
     "data": {
      "text/plain": [
       "Timedelta('17 days 07:37:57.653431857')"
      ]
     },
     "execution_count": 113,
     "metadata": {},
     "output_type": "execute_result"
    }
   ],
   "source": [
    "time_diff[~time_diff.isna()].mean()"
   ]
  },
  {
   "cell_type": "markdown",
   "id": "0d629596-a00c-440d-bb9f-1b970c04030d",
   "metadata": {},
   "source": [
    "## Задача 3. Функция для проверки статистической значимости\n",
    " \n",
    "\n",
    "Для проверки статистической значимости нужно вычислить p-value и сравнить его с уровнем значимости.\n",
    "\n",
    "Напишите функцию get_ttest_pvalue. \n",
    "\n",
    "Шаблон решения"
   ]
  },
  {
   "cell_type": "code",
   "execution_count": 116,
   "id": "aa89e9e6-a176-4953-8ba7-bd38e02becd6",
   "metadata": {},
   "outputs": [],
   "source": [
    "import numpy as np\n",
    "from scipy import stats\n",
    "\n",
    "\n",
    "def get_ttest_pvalue(metrics_a_group, metrics_b_group):\n",
    "    \"\"\"Применяет тест Стьюдента, возвращает pvalue.\n",
    "\n",
    "    :param metrics_a_group (np.array): массив значений метрик группы A\n",
    "    :param metrics_a_group (np.array): массив значений метрик группы B\n",
    "    :return (float): значение p-value\n",
    "    \"\"\"\n",
    "    result = stats.ttest_ind(metrics_a_group, metrics_b_group)\n",
    "    return result.pvalue"
   ]
  },
  {
   "cell_type": "code",
   "execution_count": 117,
   "id": "5e486aae-aabf-4390-83fe-9a4353ce7124",
   "metadata": {},
   "outputs": [],
   "source": [
    "metrics_a_group = np.array([964, 1123, 962, 1213, 914, 906, 951, 1033, 987, 1082])\n",
    "metrics_b_group = np.array([952, 1064, 1091, 1079, 1158, 921, 1161, 1064, 819, 1065])\n",
    "pvalue = get_ttest_pvalue(metrics_a_group, metrics_b_group)"
   ]
  },
  {
   "cell_type": "code",
   "execution_count": 118,
   "id": "c6d73405-9817-4ddc-8781-900c4f723f35",
   "metadata": {},
   "outputs": [
    {
     "data": {
      "text/plain": [
       "np.float64(0.6122191629541949)"
      ]
     },
     "execution_count": 118,
     "metadata": {},
     "output_type": "execute_result"
    }
   ],
   "source": [
    "pvalue"
   ]
  },
  {
   "cell_type": "code",
   "execution_count": null,
   "id": "3556083a-4d0a-48f0-9143-e0ceceb02057",
   "metadata": {},
   "outputs": [],
   "source": []
  }
 ],
 "metadata": {
  "kernelspec": {
   "display_name": "Python [conda env:base] *",
   "language": "python",
   "name": "conda-base-py"
  },
  "language_info": {
   "codemirror_mode": {
    "name": "ipython",
    "version": 3
   },
   "file_extension": ".py",
   "mimetype": "text/x-python",
   "name": "python",
   "nbconvert_exporter": "python",
   "pygments_lexer": "ipython3",
   "version": "3.13.5"
  }
 },
 "nbformat": 4,
 "nbformat_minor": 5
}
