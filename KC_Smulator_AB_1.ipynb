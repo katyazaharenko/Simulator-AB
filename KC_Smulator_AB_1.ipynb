{
 "cells": [
  {
   "cell_type": "markdown",
   "id": "0a379aeb-b8df-470c-8ef0-3cdcabdb2edb",
   "metadata": {},
   "source": [
    "## Задача 1. Оценка вероятностей\n",
    "\n",
    "\n",
    "40% заказов имеют стоимость больше 1000 рублей каждый. Допустим, новый заказ стоит больше 1000 рублей с вероятностью 0.4. Оцените вероятность того, что из 100 новых заказов 50 или более стоят дороже 1000 рублей.\n",
    "\n",
    "Ответ округлите с точность до 3 знака после точки."
   ]
  },
  {
   "cell_type": "code",
   "execution_count": 1,
   "id": "c9bc2c09-92f1-4642-ba46-7459ddbd3051",
   "metadata": {},
   "outputs": [],
   "source": [
    "import scipy.stats as st"
   ]
  },
  {
   "cell_type": "code",
   "execution_count": 2,
   "id": "57d11d86-9f3c-4ece-bd4c-2a7f9412b82b",
   "metadata": {},
   "outputs": [],
   "source": [
    "p = 0.4\n",
    "q = 0.6\n",
    "n = 100\n",
    "m = 50\n"
   ]
  },
  {
   "cell_type": "code",
   "execution_count": 3,
   "id": "838681f6-a01c-44a6-b175-f62803b4dffc",
   "metadata": {},
   "outputs": [],
   "source": [
    "total = 0\n",
    "for i in range(50, 100):\n",
    "    total += st.binom.pmf(k=i, p=p, n=n)"
   ]
  },
  {
   "cell_type": "code",
   "execution_count": 4,
   "id": "e1721a84-4a15-4a88-b025-f95f5974f36b",
   "metadata": {},
   "outputs": [
    {
     "data": {
      "text/plain": [
       "np.float64(0.027)"
      ]
     },
     "execution_count": 4,
     "metadata": {},
     "output_type": "execute_result"
    }
   ],
   "source": [
    "round(total, 3)"
   ]
  },
  {
   "cell_type": "markdown",
   "id": "f571f375-41c8-477b-92c7-6aef9d6d164f",
   "metadata": {},
   "source": [
    "## Задача 2. Популярные товары\n",
    " \n",
    "\n",
    "Определите топ-3 товара по суммарной выручке. Для решения используйте данные из файла 2022-04-01/2022-04-01T12_df_sales_detail.csv.\n",
    "Описание данных можно посмотреть на платформе А/Б тестирования на вкладке Главная.\n",
    "\n",
    "\n",
    "Выберите полученные товары:"
   ]
  },
  {
   "cell_type": "code",
   "execution_count": 5,
   "id": "d10d4546-8f1b-42c9-b08b-e4f0826cba9f",
   "metadata": {},
   "outputs": [],
   "source": [
    "import pandas as pd"
   ]
  },
  {
   "cell_type": "code",
   "execution_count": 6,
   "id": "7d6abe9b-55a6-4045-a592-7e067c3d7d26",
   "metadata": {},
   "outputs": [],
   "source": [
    "data = pd.read_csv(\"2022-04-01T12_df_sales_detail.csv\")"
   ]
  },
  {
   "cell_type": "code",
   "execution_count": 7,
   "id": "b3f4c722-a431-4236-aaea-76a49882dc41",
   "metadata": {},
   "outputs": [
    {
     "data": {
      "text/html": [
       "<div>\n",
       "<style scoped>\n",
       "    .dataframe tbody tr th:only-of-type {\n",
       "        vertical-align: middle;\n",
       "    }\n",
       "\n",
       "    .dataframe tbody tr th {\n",
       "        vertical-align: top;\n",
       "    }\n",
       "\n",
       "    .dataframe thead th {\n",
       "        text-align: right;\n",
       "    }\n",
       "</style>\n",
       "<table border=\"1\" class=\"dataframe\">\n",
       "  <thead>\n",
       "    <tr style=\"text-align: right;\">\n",
       "      <th></th>\n",
       "      <th>sale_id</th>\n",
       "      <th>good</th>\n",
       "      <th>price</th>\n",
       "      <th>date</th>\n",
       "      <th>user_id</th>\n",
       "    </tr>\n",
       "  </thead>\n",
       "  <tbody>\n",
       "    <tr>\n",
       "      <th>0</th>\n",
       "      <td>1000001</td>\n",
       "      <td>mexican pizza</td>\n",
       "      <td>720</td>\n",
       "      <td>2022-02-04 10:00:24</td>\n",
       "      <td>1c1543</td>\n",
       "    </tr>\n",
       "    <tr>\n",
       "      <th>1</th>\n",
       "      <td>1000002</td>\n",
       "      <td>chefs pizza</td>\n",
       "      <td>840</td>\n",
       "      <td>2022-02-04 10:02:28</td>\n",
       "      <td>a9a6e8</td>\n",
       "    </tr>\n",
       "    <tr>\n",
       "      <th>2</th>\n",
       "      <td>1000002</td>\n",
       "      <td>orange juice</td>\n",
       "      <td>90</td>\n",
       "      <td>2022-02-04 10:02:28</td>\n",
       "      <td>a9a6e8</td>\n",
       "    </tr>\n",
       "    <tr>\n",
       "      <th>3</th>\n",
       "      <td>1000003</td>\n",
       "      <td>cheese pizza</td>\n",
       "      <td>600</td>\n",
       "      <td>2022-02-04 10:02:35</td>\n",
       "      <td>23420a</td>\n",
       "    </tr>\n",
       "    <tr>\n",
       "      <th>4</th>\n",
       "      <td>1000003</td>\n",
       "      <td>italian pizza</td>\n",
       "      <td>720</td>\n",
       "      <td>2022-02-04 10:02:35</td>\n",
       "      <td>23420a</td>\n",
       "    </tr>\n",
       "  </tbody>\n",
       "</table>\n",
       "</div>"
      ],
      "text/plain": [
       "   sale_id           good  price                 date user_id\n",
       "0  1000001  mexican pizza    720  2022-02-04 10:00:24  1c1543\n",
       "1  1000002    chefs pizza    840  2022-02-04 10:02:28  a9a6e8\n",
       "2  1000002   orange juice     90  2022-02-04 10:02:28  a9a6e8\n",
       "3  1000003   cheese pizza    600  2022-02-04 10:02:35  23420a\n",
       "4  1000003  italian pizza    720  2022-02-04 10:02:35  23420a"
      ]
     },
     "execution_count": 7,
     "metadata": {},
     "output_type": "execute_result"
    }
   ],
   "source": [
    "data.head()"
   ]
  },
  {
   "cell_type": "code",
   "execution_count": 8,
   "id": "7e5818b5-582e-45d9-9d4a-d1885e2e59aa",
   "metadata": {},
   "outputs": [
    {
     "data": {
      "text/plain": [
       "good\n",
       "chefs pizza               24558240\n",
       "double pepperoni pizza    22558380\n",
       "chicken bbq pizza         17622540\n",
       "Name: price, dtype: int64"
      ]
     },
     "execution_count": 8,
     "metadata": {},
     "output_type": "execute_result"
    }
   ],
   "source": [
    "data.groupby(\"good\")[\"price\"].sum().sort_values(ascending=False).head(3)"
   ]
  },
  {
   "cell_type": "markdown",
   "id": "628a6a26-5cca-4e0f-8527-9d92ec3d0ebf",
   "metadata": {},
   "source": [
    "## Задача 3. Время от захода на сайт до покупки\n",
    "  \n",
    "\n",
    "Оцените средний срок, который проходит от захода пользователя на сайт до совершения покупки. Будем считать, что заход на сайт относится к покупке, если он был совершён не ранее, чем за два часа до совершения покупки. Другими словами, для каждой покупки нужно посчитать время, которое проходит от покупки до первого захода на сайт того же пользователя в течение двух часов перед покупкой. И от полученных значений времени посчитать среднее."
   ]
  },
  {
   "cell_type": "code",
   "execution_count": 22,
   "id": "e7ee5490-e1cd-46a1-911f-48ad3253a60f",
   "metadata": {},
   "outputs": [],
   "source": [
    "import pandas as pd"
   ]
  },
  {
   "cell_type": "code",
   "execution_count": 23,
   "id": "92d26c25-5d78-4566-9376-6312a319aef3",
   "metadata": {},
   "outputs": [],
   "source": [
    "sales_df = pd.read_csv(\"2022-04-01T12_df_sales.csv\")\n",
    "logs_df = pd.read_csv(\"2022-04-01T12_df_web_logs.csv\")"
   ]
  },
  {
   "cell_type": "code",
   "execution_count": 24,
   "id": "7743a1fb-7e2a-4fdf-98c7-3ecd9f1e53c0",
   "metadata": {},
   "outputs": [
    {
     "data": {
      "text/html": [
       "<div>\n",
       "<style scoped>\n",
       "    .dataframe tbody tr th:only-of-type {\n",
       "        vertical-align: middle;\n",
       "    }\n",
       "\n",
       "    .dataframe tbody tr th {\n",
       "        vertical-align: top;\n",
       "    }\n",
       "\n",
       "    .dataframe thead th {\n",
       "        text-align: right;\n",
       "    }\n",
       "</style>\n",
       "<table border=\"1\" class=\"dataframe\">\n",
       "  <thead>\n",
       "    <tr style=\"text-align: right;\">\n",
       "      <th></th>\n",
       "      <th>sale_id</th>\n",
       "      <th>date</th>\n",
       "      <th>count_pizza</th>\n",
       "      <th>count_drink</th>\n",
       "      <th>price</th>\n",
       "      <th>user_id</th>\n",
       "    </tr>\n",
       "  </thead>\n",
       "  <tbody>\n",
       "    <tr>\n",
       "      <th>0</th>\n",
       "      <td>1000001</td>\n",
       "      <td>2022-02-04 10:00:24</td>\n",
       "      <td>1</td>\n",
       "      <td>0</td>\n",
       "      <td>720</td>\n",
       "      <td>1c1543</td>\n",
       "    </tr>\n",
       "    <tr>\n",
       "      <th>1</th>\n",
       "      <td>1000002</td>\n",
       "      <td>2022-02-04 10:02:28</td>\n",
       "      <td>1</td>\n",
       "      <td>1</td>\n",
       "      <td>930</td>\n",
       "      <td>a9a6e8</td>\n",
       "    </tr>\n",
       "    <tr>\n",
       "      <th>2</th>\n",
       "      <td>1000003</td>\n",
       "      <td>2022-02-04 10:02:35</td>\n",
       "      <td>3</td>\n",
       "      <td>1</td>\n",
       "      <td>1980</td>\n",
       "      <td>23420a</td>\n",
       "    </tr>\n",
       "    <tr>\n",
       "      <th>3</th>\n",
       "      <td>1000004</td>\n",
       "      <td>2022-02-04 10:03:06</td>\n",
       "      <td>1</td>\n",
       "      <td>1</td>\n",
       "      <td>750</td>\n",
       "      <td>3e8ed5</td>\n",
       "    </tr>\n",
       "    <tr>\n",
       "      <th>4</th>\n",
       "      <td>1000005</td>\n",
       "      <td>2022-02-04 10:03:23</td>\n",
       "      <td>1</td>\n",
       "      <td>1</td>\n",
       "      <td>870</td>\n",
       "      <td>cbc468</td>\n",
       "    </tr>\n",
       "  </tbody>\n",
       "</table>\n",
       "</div>"
      ],
      "text/plain": [
       "   sale_id                 date  count_pizza  count_drink  price user_id\n",
       "0  1000001  2022-02-04 10:00:24            1            0    720  1c1543\n",
       "1  1000002  2022-02-04 10:02:28            1            1    930  a9a6e8\n",
       "2  1000003  2022-02-04 10:02:35            3            1   1980  23420a\n",
       "3  1000004  2022-02-04 10:03:06            1            1    750  3e8ed5\n",
       "4  1000005  2022-02-04 10:03:23            1            1    870  cbc468"
      ]
     },
     "execution_count": 24,
     "metadata": {},
     "output_type": "execute_result"
    }
   ],
   "source": [
    "sales_df.head()"
   ]
  },
  {
   "cell_type": "code",
   "execution_count": 25,
   "id": "9a1f8ad0-3cf1-4d8e-b059-596636a2c442",
   "metadata": {},
   "outputs": [
    {
     "data": {
      "text/html": [
       "<div>\n",
       "<style scoped>\n",
       "    .dataframe tbody tr th:only-of-type {\n",
       "        vertical-align: middle;\n",
       "    }\n",
       "\n",
       "    .dataframe tbody tr th {\n",
       "        vertical-align: top;\n",
       "    }\n",
       "\n",
       "    .dataframe thead th {\n",
       "        text-align: right;\n",
       "    }\n",
       "</style>\n",
       "<table border=\"1\" class=\"dataframe\">\n",
       "  <thead>\n",
       "    <tr style=\"text-align: right;\">\n",
       "      <th></th>\n",
       "      <th>user_id</th>\n",
       "      <th>page</th>\n",
       "      <th>date</th>\n",
       "      <th>load_time</th>\n",
       "    </tr>\n",
       "  </thead>\n",
       "  <tbody>\n",
       "    <tr>\n",
       "      <th>0</th>\n",
       "      <td>f25239</td>\n",
       "      <td>m</td>\n",
       "      <td>2022-02-03 23:45:37</td>\n",
       "      <td>80.8</td>\n",
       "    </tr>\n",
       "    <tr>\n",
       "      <th>1</th>\n",
       "      <td>06d6df</td>\n",
       "      <td>m</td>\n",
       "      <td>2022-02-03 23:49:56</td>\n",
       "      <td>70.5</td>\n",
       "    </tr>\n",
       "    <tr>\n",
       "      <th>2</th>\n",
       "      <td>06d6df</td>\n",
       "      <td>m</td>\n",
       "      <td>2022-02-03 23:51:16</td>\n",
       "      <td>89.7</td>\n",
       "    </tr>\n",
       "    <tr>\n",
       "      <th>3</th>\n",
       "      <td>f25239</td>\n",
       "      <td>m</td>\n",
       "      <td>2022-02-03 23:51:43</td>\n",
       "      <td>74.4</td>\n",
       "    </tr>\n",
       "    <tr>\n",
       "      <th>4</th>\n",
       "      <td>697870</td>\n",
       "      <td>m</td>\n",
       "      <td>2022-02-03 23:53:12</td>\n",
       "      <td>66.8</td>\n",
       "    </tr>\n",
       "  </tbody>\n",
       "</table>\n",
       "</div>"
      ],
      "text/plain": [
       "  user_id page                 date  load_time\n",
       "0  f25239    m  2022-02-03 23:45:37       80.8\n",
       "1  06d6df    m  2022-02-03 23:49:56       70.5\n",
       "2  06d6df    m  2022-02-03 23:51:16       89.7\n",
       "3  f25239    m  2022-02-03 23:51:43       74.4\n",
       "4  697870    m  2022-02-03 23:53:12       66.8"
      ]
     },
     "execution_count": 25,
     "metadata": {},
     "output_type": "execute_result"
    }
   ],
   "source": [
    "logs_df.head()"
   ]
  },
  {
   "cell_type": "code",
   "execution_count": 30,
   "id": "4deb35b9-312e-45e1-a920-733a9e686f45",
   "metadata": {},
   "outputs": [],
   "source": [
    "# common_df = logs_df.merge(sales_df, on='user_id', suffixes=('_logs', '_sales'), how='right')"
   ]
  },
  {
   "cell_type": "code",
   "execution_count": 58,
   "id": "1cf1f911-27f4-4094-bc11-17fdabeb3ea9",
   "metadata": {},
   "outputs": [],
   "source": [
    "common_df = sales_df.merge(logs_df, on='user_id', suffixes=('_sales', '_logs'), how='left')"
   ]
  },
  {
   "cell_type": "code",
   "execution_count": 59,
   "id": "32f8547c-d063-4ebd-8a02-e836c73f252c",
   "metadata": {},
   "outputs": [
    {
     "data": {
      "text/plain": [
       "sale_id\n",
       "1000001    28\n",
       "1000002    27\n",
       "1000003    18\n",
       "1000004    52\n",
       "1000005    20\n",
       "           ..\n",
       "1203843     7\n",
       "1203844    33\n",
       "1203845    35\n",
       "1203846    24\n",
       "1203847    30\n",
       "Name: date_logs, Length: 203847, dtype: int64"
      ]
     },
     "execution_count": 59,
     "metadata": {},
     "output_type": "execute_result"
    }
   ],
   "source": [
    "common_df.groupby(\"sale_id\")['date_logs'].count()"
   ]
  },
  {
   "cell_type": "code",
   "execution_count": 61,
   "id": "25b8af1b-beb5-4f88-9e4c-46ac8f7d4e54",
   "metadata": {},
   "outputs": [
    {
     "data": {
      "text/plain": [
       "203847"
      ]
     },
     "execution_count": 61,
     "metadata": {},
     "output_type": "execute_result"
    }
   ],
   "source": [
    "common_df.sale_id.nunique()"
   ]
  },
  {
   "cell_type": "code",
   "execution_count": 60,
   "id": "6d5e9a12-867a-4999-8ee9-12d8de9b004a",
   "metadata": {},
   "outputs": [],
   "source": [
    "common_df['date_sales'] = pd.to_datetime(common_df['date_sales'])\n",
    "common_df['date_logs'] = pd.to_datetime(common_df['date_logs'])"
   ]
  },
  {
   "cell_type": "code",
   "execution_count": 62,
   "id": "7f40adec-8b79-4527-84c8-4357e935aaba",
   "metadata": {},
   "outputs": [],
   "source": [
    "common_df['time_diff'] = common_df['date_sales'] - common_df['date_logs']"
   ]
  },
  {
   "cell_type": "code",
   "execution_count": 63,
   "id": "daf3093b-d0cf-455c-b4b0-1d2dfd7feedf",
   "metadata": {},
   "outputs": [],
   "source": [
    "common_df = common_df[(common_df['time_diff'] <= pd.Timedelta(hours=2)) & (common_df['time_diff'] >= pd.Timedelta(hours=0))]"
   ]
  },
  {
   "cell_type": "code",
   "execution_count": 68,
   "id": "5967fe65-000e-41b9-bc3c-06b71882a8a5",
   "metadata": {},
   "outputs": [],
   "source": [
    "users_sales_time = common_df.groupby([\"user_id\", \"sale_id\"], as_index=False)['time_diff'].max()"
   ]
  },
  {
   "cell_type": "code",
   "execution_count": 69,
   "id": "a54656ba-ac74-4a8e-8ee8-83a618bc1c2c",
   "metadata": {},
   "outputs": [
    {
     "data": {
      "text/html": [
       "<div>\n",
       "<style scoped>\n",
       "    .dataframe tbody tr th:only-of-type {\n",
       "        vertical-align: middle;\n",
       "    }\n",
       "\n",
       "    .dataframe tbody tr th {\n",
       "        vertical-align: top;\n",
       "    }\n",
       "\n",
       "    .dataframe thead th {\n",
       "        text-align: right;\n",
       "    }\n",
       "</style>\n",
       "<table border=\"1\" class=\"dataframe\">\n",
       "  <thead>\n",
       "    <tr style=\"text-align: right;\">\n",
       "      <th></th>\n",
       "      <th>user_id</th>\n",
       "      <th>sale_id</th>\n",
       "      <th>time_diff</th>\n",
       "    </tr>\n",
       "  </thead>\n",
       "  <tbody>\n",
       "    <tr>\n",
       "      <th>0</th>\n",
       "      <td>000096</td>\n",
       "      <td>1101926</td>\n",
       "      <td>0 days 00:17:54</td>\n",
       "    </tr>\n",
       "    <tr>\n",
       "      <th>1</th>\n",
       "      <td>000096</td>\n",
       "      <td>1168537</td>\n",
       "      <td>0 days 00:18:15</td>\n",
       "    </tr>\n",
       "    <tr>\n",
       "      <th>2</th>\n",
       "      <td>0000d4</td>\n",
       "      <td>1090424</td>\n",
       "      <td>0 days 00:18:22</td>\n",
       "    </tr>\n",
       "    <tr>\n",
       "      <th>3</th>\n",
       "      <td>0000d4</td>\n",
       "      <td>1186587</td>\n",
       "      <td>0 days 00:17:16</td>\n",
       "    </tr>\n",
       "    <tr>\n",
       "      <th>4</th>\n",
       "      <td>0000de</td>\n",
       "      <td>1028832</td>\n",
       "      <td>0 days 00:15:53</td>\n",
       "    </tr>\n",
       "    <tr>\n",
       "      <th>...</th>\n",
       "      <td>...</td>\n",
       "      <td>...</td>\n",
       "      <td>...</td>\n",
       "    </tr>\n",
       "    <tr>\n",
       "      <th>203842</th>\n",
       "      <td>fffcab</td>\n",
       "      <td>1115270</td>\n",
       "      <td>0 days 00:14:54</td>\n",
       "    </tr>\n",
       "    <tr>\n",
       "      <th>203843</th>\n",
       "      <td>fffd64</td>\n",
       "      <td>1051504</td>\n",
       "      <td>0 days 00:13:13</td>\n",
       "    </tr>\n",
       "    <tr>\n",
       "      <th>203844</th>\n",
       "      <td>ffff62</td>\n",
       "      <td>1160164</td>\n",
       "      <td>0 days 00:15:41</td>\n",
       "    </tr>\n",
       "    <tr>\n",
       "      <th>203845</th>\n",
       "      <td>ffff8f</td>\n",
       "      <td>1004686</td>\n",
       "      <td>0 days 00:11:37</td>\n",
       "    </tr>\n",
       "    <tr>\n",
       "      <th>203846</th>\n",
       "      <td>ffff8f</td>\n",
       "      <td>1037059</td>\n",
       "      <td>0 days 00:13:22</td>\n",
       "    </tr>\n",
       "  </tbody>\n",
       "</table>\n",
       "<p>203847 rows × 3 columns</p>\n",
       "</div>"
      ],
      "text/plain": [
       "       user_id  sale_id       time_diff\n",
       "0       000096  1101926 0 days 00:17:54\n",
       "1       000096  1168537 0 days 00:18:15\n",
       "2       0000d4  1090424 0 days 00:18:22\n",
       "3       0000d4  1186587 0 days 00:17:16\n",
       "4       0000de  1028832 0 days 00:15:53\n",
       "...        ...      ...             ...\n",
       "203842  fffcab  1115270 0 days 00:14:54\n",
       "203843  fffd64  1051504 0 days 00:13:13\n",
       "203844  ffff62  1160164 0 days 00:15:41\n",
       "203845  ffff8f  1004686 0 days 00:11:37\n",
       "203846  ffff8f  1037059 0 days 00:13:22\n",
       "\n",
       "[203847 rows x 3 columns]"
      ]
     },
     "execution_count": 69,
     "metadata": {},
     "output_type": "execute_result"
    }
   ],
   "source": [
    "users_sales_time"
   ]
  },
  {
   "cell_type": "code",
   "execution_count": 70,
   "id": "5f74c0d2-3dd3-4ec5-b6aa-58b61ba5c5a1",
   "metadata": {},
   "outputs": [
    {
     "data": {
      "text/plain": [
       "Timedelta('0 days 00:16:35.312670777')"
      ]
     },
     "execution_count": 70,
     "metadata": {},
     "output_type": "execute_result"
    }
   ],
   "source": [
    "users_sales_time.time_diff.mean()"
   ]
  },
  {
   "cell_type": "code",
   "execution_count": 72,
   "id": "643f3b54-9629-4b6d-939f-2e548faa4ac3",
   "metadata": {},
   "outputs": [
    {
     "data": {
      "text/plain": [
       "17"
      ]
     },
     "execution_count": 72,
     "metadata": {},
     "output_type": "execute_result"
    }
   ],
   "source": [
    "round(users_sales_time.time_diff.mean().total_seconds()/60)"
   ]
  },
  {
   "cell_type": "code",
   "execution_count": null,
   "id": "43ef19e6-ad95-497c-9bf0-e78076ce8bb1",
   "metadata": {},
   "outputs": [],
   "source": []
  },
  {
   "cell_type": "markdown",
   "id": "b8028e96-0244-46a8-8aed-b3d6a6541b34",
   "metadata": {},
   "source": [
    "## Задача 4. Знакомство с задачами на код\n",
    "  \n",
    "\n",
    "Функция суммирования двух чисел"
   ]
  },
  {
   "cell_type": "code",
   "execution_count": 73,
   "id": "e3ecfc32-6eb3-4f28-ab72-7bfce1f5cb6d",
   "metadata": {},
   "outputs": [],
   "source": [
    "def sum_two_values(a, b):\n",
    "    \"\"\"Возвращает сумму чисел.\"\"\"\n",
    "    return a + b"
   ]
  },
  {
   "cell_type": "markdown",
   "id": "421c7619-e02a-40e3-af44-3336b24f048c",
   "metadata": {},
   "source": [
    "## Задача 5. Функция для фильтрации данных\n",
    "  \n",
    "\n",
    "Для оценки результатов экспериментов нам нужно выбрать данные, полученные во время эксперимента.\n",
    "\n",
    "Напишите функцию get_data_subset.\n",
    "\n",
    "Шаблон решения\n",
    "\n",
    "from datetime import datetime\n",
    "\n",
    "import pandas as pd\n",
    "\n",
    "\n",
    "def get_data_subset(df, begin_date, end_date, user_ids=None, columns=None):\n",
    "    \"\"\"Возвращает подмножество данных.\n",
    "\n",
    "    :param df (pd.DataFrame): таблица с данными, обязательные столбцы: 'date', 'user_id'.\n",
    "    :param begin_date (datetime.datetime | None): дата начала интервала с данными.\n",
    "        Пример, df[df['date'] >= begin_date].\n",
    "        Если None, то фильтровать не нужно.\n",
    "    :param end_date (datetime.datetime | None): дата окончания интервала с данными.\n",
    "        Пример, df[df['date'] < end_date].\n",
    "        Если None, то фильтровать не нужно.\n",
    "    :param user_ids (list[str] | None): список user_id, по которым нужно предоставить данные.\n",
    "        Пример, df[df['user_id'].isin(user_ids)].\n",
    "        Если None, то фильтровать по user_id не нужно.\n",
    "    :param columns (list[str] | None): список названий столбцов, по которым нужно предоставить данные.\n",
    "        Пример, df[columns].\n",
    "        Если None, то фильтровать по columns не нужно.\n",
    "\n",
    "    :return df (pd.DataFrame): датафрейм с подмножеством данных.\n",
    "    \"\"\"\n",
    "    # YOUR_CODE_HERE"
   ]
  },
  {
   "cell_type": "code",
   "execution_count": 74,
   "id": "ca2c1faa-745c-4c9b-a798-c7c1d62dd358",
   "metadata": {},
   "outputs": [],
   "source": [
    "from datetime import datetime\n",
    "\n",
    "import pandas as pd\n",
    "\n",
    "\n",
    "def get_data_subset(df, begin_date, end_date, user_ids=None, columns=None):\n",
    "    \"\"\"Возвращает подмножество данных.\n",
    "\n",
    "    :param df (pd.DataFrame): таблица с данными, обязательные столбцы: 'date', 'user_id'.\n",
    "    :param begin_date (datetime.datetime | None): дата начала интервала с данными.\n",
    "        Пример, df[df['date'] >= begin_date].\n",
    "        Если None, то фильтровать не нужно.\n",
    "    :param end_date (datetime.datetime | None): дата окончания интервала с данными.\n",
    "        Пример, df[df['date'] < end_date].\n",
    "        Если None, то фильтровать не нужно.\n",
    "    :param user_ids (list[str] | None): список user_id, по которым нужно предоставить данные.\n",
    "        Пример, df[df['user_id'].isin(user_ids)].\n",
    "        Если None, то фильтровать по user_id не нужно.\n",
    "    :param columns (list[str] | None): список названий столбцов, по которым нужно предоставить данные.\n",
    "        Пример, df[columns].\n",
    "        Если None, то фильтровать по columns не нужно.\n",
    "\n",
    "    :return df (pd.DataFrame): датафрейм с подмножеством данных.\n",
    "    \"\"\"\n",
    "    df = df.copy()\n",
    "    df['date'] = pd.to_datetime(df['date'])\n",
    "\n",
    "    if begin_date is not None:\n",
    "        df = df[df['date'] >= begin_date].copy()\n",
    "    if end_date is not None:\n",
    "        df = df[df['date'] < end_date].copy()\n",
    "    if user_ids is not None:\n",
    "        df = df[df['user_id'].isin(user_ids)].copy()\n",
    "    if columns is not None:\n",
    "        df = df[columns].copy()\n",
    "    return df\n",
    "\n",
    "\n"
   ]
  },
  {
   "cell_type": "code",
   "execution_count": null,
   "id": "379ca0d0-e662-4b47-b914-1baa38020480",
   "metadata": {},
   "outputs": [],
   "source": []
  },
  {
   "cell_type": "markdown",
   "id": "d1fcd171-277a-4812-bf53-02cb5d1885b6",
   "metadata": {},
   "source": [
    "## Задача 6. Функции вычисления метрик\n",
    "  \n",
    "\n",
    "Напишите функции get_response_time, get_revenue_web и get_revenue_all для вычисления метрик «revenue (web)», «revenue (all)» и «response time».\n",
    "\n"
   ]
  },
  {
   "cell_type": "code",
   "execution_count": 206,
   "id": "a5e0b81c-5ef4-401d-b3ec-4e9a315c772d",
   "metadata": {},
   "outputs": [],
   "source": [
    "def filter_by_timediff(df, diff=pd.Timedelta(hours=2)):\n",
    "    df = df.copy()\n",
    "    df['time_diff'] = df['date_sales'] - df['date_logs']\n",
    "    df = df[(df['time_diff'] <= diff) &\\\n",
    "        (df['time_diff'] >= pd.Timedelta(hours=0)) | (df['time_diff'].isna())]\n",
    "    return df\n",
    "\n",
    "def get_response_time(df_web_logs, begin_date, end_date):\n",
    "    \"\"\"Вычисляет значения времени обработки запроса сервером.\n",
    "\n",
    "    Нужно вернуть значения user_id и load_time из таблицы df_web_logs,\n",
    "    отфильтрованные по дате.\n",
    "    Считаем, что запросы обрабатываются независимо, поэтому группировать\n",
    "    по user_id не нужно.\n",
    "\n",
    "    :param df_web_logs (pd.DataFrame): таблица с логами сайта, содержит\n",
    "    столбцы ['user_id', 'date', 'load_time'].\n",
    "    :param begin_date, end_date (datetime): границы периода для\n",
    "    фильтрации данных по дате. Левая граница входит, правая не входит.\n",
    "\n",
    "    :return (pd.DataFrame): датафрейм с двумя столбцами ['user_id', 'metric']\n",
    "    \"\"\"\n",
    "    df_web_logs = df_web_logs.copy()\n",
    "    df_web_logs['date'] = pd.to_datetime(df_web_logs['date'])\n",
    "    return df_web_logs[(df_web_logs['date'] >= begin_date) &\\\n",
    "        (df_web_logs['date'] < end_date)].rename({'load_time': 'metric'}, axis=1)[['user_id', 'metric']]\n",
    "\n",
    "def get_revenue_web(df_sales, df_web_logs, begin_date, end_date):\n",
    "    \"\"\"Вычисляет значения выручки с пользователя за указанный период\n",
    "    для заходивших на сайт в указанный период.\n",
    "\n",
    "    Эти данные нужны для экспериментов на сайте, когда в эксперимент\n",
    "    попадают только те, кто заходил на сайт во время эксперимента.\n",
    "\n",
    "    Нужно вернуть значения user_id и выручки (sum(price)) за указанный\n",
    "    период для пользователей, заходивших на сайт в указанный период.\n",
    "    Если пользователь зашёл на сайт и ничего не купил, его суммарная\n",
    "    стоимость покупок равна нулю.\n",
    "    Для каждого user_id должно быть ровно одно значение.\n",
    "\n",
    "    :param df_sales (pd.DataFrame): таблица с продажами, содержит\n",
    "        столбцы ['user_id', 'date', 'price'].\n",
    "    :param df_web_logs (pd.DataFrame): таблица с логами сайта, содержит\n",
    "        столбцы ['user_id', 'date', 'load_time'].\n",
    "    :param begin_date, end_date (datetime): границы периода для фильтрации\n",
    "        данных по дате. Левая граница входит, правая не входит.\n",
    "\n",
    "    :return (pd.DataFrame): датафрейм с двумя столбцами ['user_id', 'metric']\n",
    "    \"\"\"\n",
    "    df_sales = df_sales.copy()\n",
    "    df_sales['date'] = pd.to_datetime(df_sales['date'])\n",
    "    df_sales = df_sales[(df_sales['date'] >= begin_date) &\\\n",
    "        (df_sales['date'] < end_date)].rename({'price': 'metric'}, axis=1)\n",
    "\n",
    "    df_web_logs = df_web_logs.copy()\n",
    "    df_web_logs['date'] = pd.to_datetime(df_web_logs['date'])\n",
    "    df_web_logs = df_web_logs[(df_web_logs['date'] >= begin_date) &\\\n",
    "        (df_web_logs['date'] < end_date)][['user_id', 'date']]\n",
    "\n",
    "    result = df_web_logs.merge(df_sales, on='user_id', how='left', suffixes=(\"_logs\", \"_sales\"))\n",
    "\n",
    "    result = filter_by_timediff(result)\n",
    "\n",
    "    result['metric'] = result['metric'].fillna(0)\n",
    "    result = result.groupby('user_id', as_index=False)['metric'].sum()\n",
    "    return result\n",
    "\n",
    "\n",
    "def get_revenue_all(df_sales, df_web_logs, begin_date, end_date):\n",
    "    \"\"\"Вычисляет значения выручки с пользователя за указанный период\n",
    "    для заходивших на сайт до end_date.\n",
    "\n",
    "    Эти данные нужны, например, для экспериментов с рассылкой по email,\n",
    "    когда в эксперимент попадают те, кто когда-либо оставил нам свои данные.\n",
    "\n",
    "    Нужно вернуть значения user_id и выручки (sum(price)) за указанный период\n",
    "    для пользователей, заходивших на сайт до end_date.\n",
    "    Если пользователь ничего не купил за указанный период, его суммарная\n",
    "    стоимость покупок равна нулю.\n",
    "    Для каждого user_id должно быть ровно одно значение.\n",
    "\n",
    "    :param df_sales (pd.DataFrame): таблица с продажами, содержит\n",
    "        столбцы ['user_id', 'date', 'price'].\n",
    "    :param df_web_logs (pd.DataFrame): таблица с логами сайта, содержит\n",
    "        столбцы ['user_id', 'date', 'load_time'].\n",
    "    :param begin_date, end_date (datetime): границы периода для фильтрации\n",
    "        данных по дате. Левая граница входит, правая не входит.\n",
    "\n",
    "    :return (pd.DataFrame): датафрейм с двумя столбцами ['user_id', 'metric']\n",
    "    \"\"\"\n",
    "    df_sales = df_sales.copy()\n",
    "    df_sales['date'] = pd.to_datetime(df_sales['date'])\n",
    "    df_sales = df_sales[(df_sales['date'] >= begin_date) &\\\n",
    "        (df_sales['date'] < end_date)].rename({'price': 'metric'}, axis=1)\n",
    "\n",
    "    df_web_logs = df_web_logs.copy()\n",
    "    df_web_logs['date'] = pd.to_datetime(df_web_logs['date'])\n",
    "    df_web_logs = df_web_logs[df_web_logs['date'] < end_date][['user_id', 'date']]\n",
    "\n",
    "    result = df_web_logs.merge(df_sales, on='user_id', how='left', suffixes=(\"_logs\", \"_sales\"))\n",
    "\n",
    "    result = filter_by_timediff(result)\n",
    "\n",
    "    result['metric'] = result['metric'].fillna(0)\n",
    "    result = result.groupby('user_id', as_index=False)['metric'].sum()\n",
    "    return result"
   ]
  },
  {
   "cell_type": "code",
   "execution_count": 207,
   "id": "6e45444b-a32f-47e7-b55f-a1b7da6f17d1",
   "metadata": {},
   "outputs": [],
   "source": [
    "df_sales = pd.DataFrame({\n",
    "    'date': [datetime(2022, 3, day, 11) for day in range(11, 14)],\n",
    "    'price': [1100, 900, 1500],\n",
    "    'user_id': ['1', '2', '1'],\n",
    "})\n",
    "df_web_logs = pd.DataFrame({\n",
    "    'date': [datetime(2022, 3, day, 11) for day in range(10, 14)],\n",
    "    'load_time': [80.8, 90.1, 15.8, 19.7],\n",
    "    'user_id': ['3', '1', '2', '1'],\n",
    "})\n",
    "\n"
   ]
  },
  {
   "cell_type": "code",
   "execution_count": 208,
   "id": "4c5d8924-b266-4123-b1ba-b6efc1e6d41b",
   "metadata": {},
   "outputs": [
    {
     "data": {
      "text/html": [
       "<div>\n",
       "<style scoped>\n",
       "    .dataframe tbody tr th:only-of-type {\n",
       "        vertical-align: middle;\n",
       "    }\n",
       "\n",
       "    .dataframe tbody tr th {\n",
       "        vertical-align: top;\n",
       "    }\n",
       "\n",
       "    .dataframe thead th {\n",
       "        text-align: right;\n",
       "    }\n",
       "</style>\n",
       "<table border=\"1\" class=\"dataframe\">\n",
       "  <thead>\n",
       "    <tr style=\"text-align: right;\">\n",
       "      <th></th>\n",
       "      <th>date</th>\n",
       "      <th>price</th>\n",
       "      <th>user_id</th>\n",
       "    </tr>\n",
       "  </thead>\n",
       "  <tbody>\n",
       "    <tr>\n",
       "      <th>0</th>\n",
       "      <td>2022-03-11 11:00:00</td>\n",
       "      <td>1100</td>\n",
       "      <td>1</td>\n",
       "    </tr>\n",
       "    <tr>\n",
       "      <th>1</th>\n",
       "      <td>2022-03-12 11:00:00</td>\n",
       "      <td>900</td>\n",
       "      <td>2</td>\n",
       "    </tr>\n",
       "    <tr>\n",
       "      <th>2</th>\n",
       "      <td>2022-03-13 11:00:00</td>\n",
       "      <td>1500</td>\n",
       "      <td>1</td>\n",
       "    </tr>\n",
       "  </tbody>\n",
       "</table>\n",
       "</div>"
      ],
      "text/plain": [
       "                 date  price user_id\n",
       "0 2022-03-11 11:00:00   1100       1\n",
       "1 2022-03-12 11:00:00    900       2\n",
       "2 2022-03-13 11:00:00   1500       1"
      ]
     },
     "execution_count": 208,
     "metadata": {},
     "output_type": "execute_result"
    }
   ],
   "source": [
    "df_sales"
   ]
  },
  {
   "cell_type": "code",
   "execution_count": 209,
   "id": "120aa674-8780-4edb-bfbe-882d7741dd5f",
   "metadata": {},
   "outputs": [
    {
     "data": {
      "text/html": [
       "<div>\n",
       "<style scoped>\n",
       "    .dataframe tbody tr th:only-of-type {\n",
       "        vertical-align: middle;\n",
       "    }\n",
       "\n",
       "    .dataframe tbody tr th {\n",
       "        vertical-align: top;\n",
       "    }\n",
       "\n",
       "    .dataframe thead th {\n",
       "        text-align: right;\n",
       "    }\n",
       "</style>\n",
       "<table border=\"1\" class=\"dataframe\">\n",
       "  <thead>\n",
       "    <tr style=\"text-align: right;\">\n",
       "      <th></th>\n",
       "      <th>date</th>\n",
       "      <th>load_time</th>\n",
       "      <th>user_id</th>\n",
       "    </tr>\n",
       "  </thead>\n",
       "  <tbody>\n",
       "    <tr>\n",
       "      <th>0</th>\n",
       "      <td>2022-03-10 11:00:00</td>\n",
       "      <td>80.8</td>\n",
       "      <td>3</td>\n",
       "    </tr>\n",
       "    <tr>\n",
       "      <th>1</th>\n",
       "      <td>2022-03-11 11:00:00</td>\n",
       "      <td>90.1</td>\n",
       "      <td>1</td>\n",
       "    </tr>\n",
       "    <tr>\n",
       "      <th>2</th>\n",
       "      <td>2022-03-12 11:00:00</td>\n",
       "      <td>15.8</td>\n",
       "      <td>2</td>\n",
       "    </tr>\n",
       "    <tr>\n",
       "      <th>3</th>\n",
       "      <td>2022-03-13 11:00:00</td>\n",
       "      <td>19.7</td>\n",
       "      <td>1</td>\n",
       "    </tr>\n",
       "  </tbody>\n",
       "</table>\n",
       "</div>"
      ],
      "text/plain": [
       "                 date  load_time user_id\n",
       "0 2022-03-10 11:00:00       80.8       3\n",
       "1 2022-03-11 11:00:00       90.1       1\n",
       "2 2022-03-12 11:00:00       15.8       2\n",
       "3 2022-03-13 11:00:00       19.7       1"
      ]
     },
     "execution_count": 209,
     "metadata": {},
     "output_type": "execute_result"
    }
   ],
   "source": [
    "df_web_logs"
   ]
  },
  {
   "cell_type": "code",
   "execution_count": 210,
   "id": "e4fddb41-dc1e-4a9c-ab9d-265cc2383ebf",
   "metadata": {},
   "outputs": [
    {
     "data": {
      "text/html": [
       "<div>\n",
       "<style scoped>\n",
       "    .dataframe tbody tr th:only-of-type {\n",
       "        vertical-align: middle;\n",
       "    }\n",
       "\n",
       "    .dataframe tbody tr th {\n",
       "        vertical-align: top;\n",
       "    }\n",
       "\n",
       "    .dataframe thead th {\n",
       "        text-align: right;\n",
       "    }\n",
       "</style>\n",
       "<table border=\"1\" class=\"dataframe\">\n",
       "  <thead>\n",
       "    <tr style=\"text-align: right;\">\n",
       "      <th></th>\n",
       "      <th>user_id</th>\n",
       "      <th>metric</th>\n",
       "    </tr>\n",
       "  </thead>\n",
       "  <tbody>\n",
       "    <tr>\n",
       "      <th>0</th>\n",
       "      <td>1</td>\n",
       "      <td>2600</td>\n",
       "    </tr>\n",
       "    <tr>\n",
       "      <th>1</th>\n",
       "      <td>2</td>\n",
       "      <td>900</td>\n",
       "    </tr>\n",
       "  </tbody>\n",
       "</table>\n",
       "</div>"
      ],
      "text/plain": [
       "  user_id  metric\n",
       "0       1    2600\n",
       "1       2     900"
      ]
     },
     "execution_count": 210,
     "metadata": {},
     "output_type": "execute_result"
    }
   ],
   "source": [
    "\n",
    "begin_date = datetime(2022, 3, 11, 9)\n",
    "end_date = datetime(2022, 4, 11, 9)\n",
    "\n",
    "revenue_web = get_revenue_web(df_sales, df_web_logs, begin_date, end_date)\n",
    "revenue_web"
   ]
  },
  {
   "cell_type": "code",
   "execution_count": 211,
   "id": "3f9fd314-b261-4e0e-9742-429579e342eb",
   "metadata": {},
   "outputs": [
    {
     "data": {
      "text/html": [
       "<div>\n",
       "<style scoped>\n",
       "    .dataframe tbody tr th:only-of-type {\n",
       "        vertical-align: middle;\n",
       "    }\n",
       "\n",
       "    .dataframe tbody tr th {\n",
       "        vertical-align: top;\n",
       "    }\n",
       "\n",
       "    .dataframe thead th {\n",
       "        text-align: right;\n",
       "    }\n",
       "</style>\n",
       "<table border=\"1\" class=\"dataframe\">\n",
       "  <thead>\n",
       "    <tr style=\"text-align: right;\">\n",
       "      <th></th>\n",
       "      <th>user_id</th>\n",
       "      <th>metric</th>\n",
       "    </tr>\n",
       "  </thead>\n",
       "  <tbody>\n",
       "    <tr>\n",
       "      <th>0</th>\n",
       "      <td>1</td>\n",
       "      <td>2600.0</td>\n",
       "    </tr>\n",
       "    <tr>\n",
       "      <th>1</th>\n",
       "      <td>2</td>\n",
       "      <td>900.0</td>\n",
       "    </tr>\n",
       "    <tr>\n",
       "      <th>2</th>\n",
       "      <td>3</td>\n",
       "      <td>0.0</td>\n",
       "    </tr>\n",
       "  </tbody>\n",
       "</table>\n",
       "</div>"
      ],
      "text/plain": [
       "  user_id  metric\n",
       "0       1  2600.0\n",
       "1       2   900.0\n",
       "2       3     0.0"
      ]
     },
     "execution_count": 211,
     "metadata": {},
     "output_type": "execute_result"
    }
   ],
   "source": [
    "revenue_all = get_revenue_all(df_sales, df_web_logs, begin_date, end_date)\n",
    "revenue_all"
   ]
  },
  {
   "cell_type": "code",
   "execution_count": 203,
   "id": "a0630232-26a6-424f-8087-7d475cc207bb",
   "metadata": {},
   "outputs": [
    {
     "data": {
      "text/html": [
       "<div>\n",
       "<style scoped>\n",
       "    .dataframe tbody tr th:only-of-type {\n",
       "        vertical-align: middle;\n",
       "    }\n",
       "\n",
       "    .dataframe tbody tr th {\n",
       "        vertical-align: top;\n",
       "    }\n",
       "\n",
       "    .dataframe thead th {\n",
       "        text-align: right;\n",
       "    }\n",
       "</style>\n",
       "<table border=\"1\" class=\"dataframe\">\n",
       "  <thead>\n",
       "    <tr style=\"text-align: right;\">\n",
       "      <th></th>\n",
       "      <th>user_id</th>\n",
       "      <th>metric</th>\n",
       "    </tr>\n",
       "  </thead>\n",
       "  <tbody>\n",
       "    <tr>\n",
       "      <th>1</th>\n",
       "      <td>1</td>\n",
       "      <td>90.1</td>\n",
       "    </tr>\n",
       "    <tr>\n",
       "      <th>2</th>\n",
       "      <td>2</td>\n",
       "      <td>15.8</td>\n",
       "    </tr>\n",
       "    <tr>\n",
       "      <th>3</th>\n",
       "      <td>1</td>\n",
       "      <td>19.7</td>\n",
       "    </tr>\n",
       "  </tbody>\n",
       "</table>\n",
       "</div>"
      ],
      "text/plain": [
       "  user_id  metric\n",
       "1       1    90.1\n",
       "2       2    15.8\n",
       "3       1    19.7"
      ]
     },
     "execution_count": 203,
     "metadata": {},
     "output_type": "execute_result"
    }
   ],
   "source": [
    "response_time = get_response_time(df_web_logs, begin_date, end_date)\n",
    "response_time"
   ]
  },
  {
   "cell_type": "code",
   "execution_count": null,
   "id": "1a08b94e-b949-4506-bae3-87ec15cd3a16",
   "metadata": {},
   "outputs": [],
   "source": []
  }
 ],
 "metadata": {
  "kernelspec": {
   "display_name": "Python [conda env:base] *",
   "language": "python",
   "name": "conda-base-py"
  },
  "language_info": {
   "codemirror_mode": {
    "name": "ipython",
    "version": 3
   },
   "file_extension": ".py",
   "mimetype": "text/x-python",
   "name": "python",
   "nbconvert_exporter": "python",
   "pygments_lexer": "ipython3",
   "version": "3.13.5"
  }
 },
 "nbformat": 4,
 "nbformat_minor": 5
}
