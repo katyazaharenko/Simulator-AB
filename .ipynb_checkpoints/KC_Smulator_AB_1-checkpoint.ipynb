{
 "cells": [
  {
   "cell_type": "markdown",
   "id": "0a379aeb-b8df-470c-8ef0-3cdcabdb2edb",
   "metadata": {},
   "source": [
    "## Задача 1. Оценка вероятностей\n",
    "\n",
    "\n",
    "40% заказов имеют стоимость больше 1000 рублей каждый. Допустим, новый заказ стоит больше 1000 рублей с вероятностью 0.4. Оцените вероятность того, что из 100 новых заказов 50 или более стоят дороже 1000 рублей.\n",
    "\n",
    "Ответ округлите с точность до 3 знака после точки."
   ]
  },
  {
   "cell_type": "code",
   "execution_count": 1,
   "id": "c9bc2c09-92f1-4642-ba46-7459ddbd3051",
   "metadata": {},
   "outputs": [],
   "source": [
    "import scipy.stats as st"
   ]
  },
  {
   "cell_type": "code",
   "execution_count": 2,
   "id": "57d11d86-9f3c-4ece-bd4c-2a7f9412b82b",
   "metadata": {},
   "outputs": [],
   "source": [
    "p = 0.4\n",
    "q = 0.6\n",
    "n = 100\n",
    "m = 50\n"
   ]
  },
  {
   "cell_type": "code",
   "execution_count": 4,
   "id": "838681f6-a01c-44a6-b175-f62803b4dffc",
   "metadata": {},
   "outputs": [],
   "source": [
    "total = 0\n",
    "for i in range(50, 100):\n",
    "    total += st.binom.pmf(k=i, p=p, n=n)"
   ]
  },
  {
   "cell_type": "code",
   "execution_count": 6,
   "id": "e1721a84-4a15-4a88-b025-f95f5974f36b",
   "metadata": {},
   "outputs": [
    {
     "data": {
      "text/plain": [
       "np.float64(0.027)"
      ]
     },
     "execution_count": 6,
     "metadata": {},
     "output_type": "execute_result"
    }
   ],
   "source": [
    "round(total, 3)"
   ]
  },
  {
   "cell_type": "markdown",
   "id": "f571f375-41c8-477b-92c7-6aef9d6d164f",
   "metadata": {},
   "source": [
    "## Задача 2. Популярные товары\n",
    " \n",
    "\n",
    "Определите топ-3 товара по суммарной выручке. Для решения используйте данные из файла 2022-04-01/2022-04-01T12_df_sales_detail.csv.\n",
    "Описание данных можно посмотреть на платформе А/Б тестирования на вкладке Главная.\n",
    "\n",
    "\n",
    "Выберите полученные товары:"
   ]
  },
  {
   "cell_type": "code",
   "execution_count": 7,
   "id": "d10d4546-8f1b-42c9-b08b-e4f0826cba9f",
   "metadata": {},
   "outputs": [],
   "source": [
    "import pandas as pd"
   ]
  },
  {
   "cell_type": "code",
   "execution_count": 8,
   "id": "7d6abe9b-55a6-4045-a592-7e067c3d7d26",
   "metadata": {},
   "outputs": [],
   "source": [
    "data = pd.read_csv(\"Simulator_AB/2022-04-01T12_df_sales_detail.csv\")"
   ]
  },
  {
   "cell_type": "code",
   "execution_count": 9,
   "id": "b3f4c722-a431-4236-aaea-76a49882dc41",
   "metadata": {},
   "outputs": [
    {
     "data": {
      "text/html": [
       "<div>\n",
       "<style scoped>\n",
       "    .dataframe tbody tr th:only-of-type {\n",
       "        vertical-align: middle;\n",
       "    }\n",
       "\n",
       "    .dataframe tbody tr th {\n",
       "        vertical-align: top;\n",
       "    }\n",
       "\n",
       "    .dataframe thead th {\n",
       "        text-align: right;\n",
       "    }\n",
       "</style>\n",
       "<table border=\"1\" class=\"dataframe\">\n",
       "  <thead>\n",
       "    <tr style=\"text-align: right;\">\n",
       "      <th></th>\n",
       "      <th>sale_id</th>\n",
       "      <th>good</th>\n",
       "      <th>price</th>\n",
       "      <th>date</th>\n",
       "      <th>user_id</th>\n",
       "    </tr>\n",
       "  </thead>\n",
       "  <tbody>\n",
       "    <tr>\n",
       "      <th>0</th>\n",
       "      <td>1000001</td>\n",
       "      <td>mexican pizza</td>\n",
       "      <td>720</td>\n",
       "      <td>2022-02-04 10:00:24</td>\n",
       "      <td>1c1543</td>\n",
       "    </tr>\n",
       "    <tr>\n",
       "      <th>1</th>\n",
       "      <td>1000002</td>\n",
       "      <td>chefs pizza</td>\n",
       "      <td>840</td>\n",
       "      <td>2022-02-04 10:02:28</td>\n",
       "      <td>a9a6e8</td>\n",
       "    </tr>\n",
       "    <tr>\n",
       "      <th>2</th>\n",
       "      <td>1000002</td>\n",
       "      <td>orange juice</td>\n",
       "      <td>90</td>\n",
       "      <td>2022-02-04 10:02:28</td>\n",
       "      <td>a9a6e8</td>\n",
       "    </tr>\n",
       "    <tr>\n",
       "      <th>3</th>\n",
       "      <td>1000003</td>\n",
       "      <td>cheese pizza</td>\n",
       "      <td>600</td>\n",
       "      <td>2022-02-04 10:02:35</td>\n",
       "      <td>23420a</td>\n",
       "    </tr>\n",
       "    <tr>\n",
       "      <th>4</th>\n",
       "      <td>1000003</td>\n",
       "      <td>italian pizza</td>\n",
       "      <td>720</td>\n",
       "      <td>2022-02-04 10:02:35</td>\n",
       "      <td>23420a</td>\n",
       "    </tr>\n",
       "  </tbody>\n",
       "</table>\n",
       "</div>"
      ],
      "text/plain": [
       "   sale_id           good  price                 date user_id\n",
       "0  1000001  mexican pizza    720  2022-02-04 10:00:24  1c1543\n",
       "1  1000002    chefs pizza    840  2022-02-04 10:02:28  a9a6e8\n",
       "2  1000002   orange juice     90  2022-02-04 10:02:28  a9a6e8\n",
       "3  1000003   cheese pizza    600  2022-02-04 10:02:35  23420a\n",
       "4  1000003  italian pizza    720  2022-02-04 10:02:35  23420a"
      ]
     },
     "execution_count": 9,
     "metadata": {},
     "output_type": "execute_result"
    }
   ],
   "source": [
    "data.head()"
   ]
  },
  {
   "cell_type": "code",
   "execution_count": 13,
   "id": "7e5818b5-582e-45d9-9d4a-d1885e2e59aa",
   "metadata": {},
   "outputs": [
    {
     "data": {
      "text/plain": [
       "good\n",
       "chefs pizza               24558240\n",
       "double pepperoni pizza    22558380\n",
       "chicken bbq pizza         17622540\n",
       "Name: price, dtype: int64"
      ]
     },
     "execution_count": 13,
     "metadata": {},
     "output_type": "execute_result"
    }
   ],
   "source": [
    "data.groupby(\"good\")[\"price\"].sum().sort_values(ascending=False).head(3)"
   ]
  },
  {
   "cell_type": "markdown",
   "id": "628a6a26-5cca-4e0f-8527-9d92ec3d0ebf",
   "metadata": {},
   "source": [
    "## Задача 3. Время от захода на сайт до покупки\n",
    "  \n",
    "\n",
    "Оцените средний срок, который проходит от захода пользователя на сайт до совершения покупки. Будем считать, что заход на сайт относится к покупке, если он был совершён не ранее, чем за два часа до совершения покупки. Другими словами, для каждой покупки нужно посчитать время, которое проходит от покупки до первого захода на сайт того же пользователя в течение двух часов перед покупкой. И от полученных значений времени посчитать среднее."
   ]
  },
  {
   "cell_type": "code",
   "execution_count": 14,
   "id": "e7ee5490-e1cd-46a1-911f-48ad3253a60f",
   "metadata": {},
   "outputs": [],
   "source": [
    "import pandas as pd"
   ]
  },
  {
   "cell_type": "code",
   "execution_count": 15,
   "id": "92d26c25-5d78-4566-9376-6312a319aef3",
   "metadata": {},
   "outputs": [],
   "source": [
    "sales_df = pd.read_csv(\"Simulator_AB/2022-04-01T12_df_sales.csv\")\n",
    "logs_df = pd.read_csv(\"Simulator_AB/2022-04-01T12_df_web_logs.csv\")"
   ]
  },
  {
   "cell_type": "code",
   "execution_count": 17,
   "id": "7743a1fb-7e2a-4fdf-98c7-3ecd9f1e53c0",
   "metadata": {},
   "outputs": [
    {
     "data": {
      "text/html": [
       "<div>\n",
       "<style scoped>\n",
       "    .dataframe tbody tr th:only-of-type {\n",
       "        vertical-align: middle;\n",
       "    }\n",
       "\n",
       "    .dataframe tbody tr th {\n",
       "        vertical-align: top;\n",
       "    }\n",
       "\n",
       "    .dataframe thead th {\n",
       "        text-align: right;\n",
       "    }\n",
       "</style>\n",
       "<table border=\"1\" class=\"dataframe\">\n",
       "  <thead>\n",
       "    <tr style=\"text-align: right;\">\n",
       "      <th></th>\n",
       "      <th>sale_id</th>\n",
       "      <th>date</th>\n",
       "      <th>count_pizza</th>\n",
       "      <th>count_drink</th>\n",
       "      <th>price</th>\n",
       "      <th>user_id</th>\n",
       "    </tr>\n",
       "  </thead>\n",
       "  <tbody>\n",
       "    <tr>\n",
       "      <th>0</th>\n",
       "      <td>1000001</td>\n",
       "      <td>2022-02-04 10:00:24</td>\n",
       "      <td>1</td>\n",
       "      <td>0</td>\n",
       "      <td>720</td>\n",
       "      <td>1c1543</td>\n",
       "    </tr>\n",
       "    <tr>\n",
       "      <th>1</th>\n",
       "      <td>1000002</td>\n",
       "      <td>2022-02-04 10:02:28</td>\n",
       "      <td>1</td>\n",
       "      <td>1</td>\n",
       "      <td>930</td>\n",
       "      <td>a9a6e8</td>\n",
       "    </tr>\n",
       "    <tr>\n",
       "      <th>2</th>\n",
       "      <td>1000003</td>\n",
       "      <td>2022-02-04 10:02:35</td>\n",
       "      <td>3</td>\n",
       "      <td>1</td>\n",
       "      <td>1980</td>\n",
       "      <td>23420a</td>\n",
       "    </tr>\n",
       "    <tr>\n",
       "      <th>3</th>\n",
       "      <td>1000004</td>\n",
       "      <td>2022-02-04 10:03:06</td>\n",
       "      <td>1</td>\n",
       "      <td>1</td>\n",
       "      <td>750</td>\n",
       "      <td>3e8ed5</td>\n",
       "    </tr>\n",
       "    <tr>\n",
       "      <th>4</th>\n",
       "      <td>1000005</td>\n",
       "      <td>2022-02-04 10:03:23</td>\n",
       "      <td>1</td>\n",
       "      <td>1</td>\n",
       "      <td>870</td>\n",
       "      <td>cbc468</td>\n",
       "    </tr>\n",
       "  </tbody>\n",
       "</table>\n",
       "</div>"
      ],
      "text/plain": [
       "   sale_id                 date  count_pizza  count_drink  price user_id\n",
       "0  1000001  2022-02-04 10:00:24            1            0    720  1c1543\n",
       "1  1000002  2022-02-04 10:02:28            1            1    930  a9a6e8\n",
       "2  1000003  2022-02-04 10:02:35            3            1   1980  23420a\n",
       "3  1000004  2022-02-04 10:03:06            1            1    750  3e8ed5\n",
       "4  1000005  2022-02-04 10:03:23            1            1    870  cbc468"
      ]
     },
     "execution_count": 17,
     "metadata": {},
     "output_type": "execute_result"
    }
   ],
   "source": [
    "sales_df.head()"
   ]
  },
  {
   "cell_type": "code",
   "execution_count": 18,
   "id": "9a1f8ad0-3cf1-4d8e-b059-596636a2c442",
   "metadata": {},
   "outputs": [
    {
     "data": {
      "text/html": [
       "<div>\n",
       "<style scoped>\n",
       "    .dataframe tbody tr th:only-of-type {\n",
       "        vertical-align: middle;\n",
       "    }\n",
       "\n",
       "    .dataframe tbody tr th {\n",
       "        vertical-align: top;\n",
       "    }\n",
       "\n",
       "    .dataframe thead th {\n",
       "        text-align: right;\n",
       "    }\n",
       "</style>\n",
       "<table border=\"1\" class=\"dataframe\">\n",
       "  <thead>\n",
       "    <tr style=\"text-align: right;\">\n",
       "      <th></th>\n",
       "      <th>user_id</th>\n",
       "      <th>page</th>\n",
       "      <th>date</th>\n",
       "      <th>load_time</th>\n",
       "    </tr>\n",
       "  </thead>\n",
       "  <tbody>\n",
       "    <tr>\n",
       "      <th>0</th>\n",
       "      <td>f25239</td>\n",
       "      <td>m</td>\n",
       "      <td>2022-02-03 23:45:37</td>\n",
       "      <td>80.8</td>\n",
       "    </tr>\n",
       "    <tr>\n",
       "      <th>1</th>\n",
       "      <td>06d6df</td>\n",
       "      <td>m</td>\n",
       "      <td>2022-02-03 23:49:56</td>\n",
       "      <td>70.5</td>\n",
       "    </tr>\n",
       "    <tr>\n",
       "      <th>2</th>\n",
       "      <td>06d6df</td>\n",
       "      <td>m</td>\n",
       "      <td>2022-02-03 23:51:16</td>\n",
       "      <td>89.7</td>\n",
       "    </tr>\n",
       "    <tr>\n",
       "      <th>3</th>\n",
       "      <td>f25239</td>\n",
       "      <td>m</td>\n",
       "      <td>2022-02-03 23:51:43</td>\n",
       "      <td>74.4</td>\n",
       "    </tr>\n",
       "    <tr>\n",
       "      <th>4</th>\n",
       "      <td>697870</td>\n",
       "      <td>m</td>\n",
       "      <td>2022-02-03 23:53:12</td>\n",
       "      <td>66.8</td>\n",
       "    </tr>\n",
       "  </tbody>\n",
       "</table>\n",
       "</div>"
      ],
      "text/plain": [
       "  user_id page                 date  load_time\n",
       "0  f25239    m  2022-02-03 23:45:37       80.8\n",
       "1  06d6df    m  2022-02-03 23:49:56       70.5\n",
       "2  06d6df    m  2022-02-03 23:51:16       89.7\n",
       "3  f25239    m  2022-02-03 23:51:43       74.4\n",
       "4  697870    m  2022-02-03 23:53:12       66.8"
      ]
     },
     "execution_count": 18,
     "metadata": {},
     "output_type": "execute_result"
    }
   ],
   "source": [
    "logs_df.head()"
   ]
  },
  {
   "cell_type": "code",
   "execution_count": 21,
   "id": "4deb35b9-312e-45e1-a920-733a9e686f45",
   "metadata": {},
   "outputs": [],
   "source": [
    "common_df = logs_df.merge(sales_df, on='user_id', suffixes=('_logs', '_sales'))"
   ]
  },
  {
   "cell_type": "code",
   "execution_count": 59,
   "id": "189a3314-cf69-4e14-86c0-04497e8c7144",
   "metadata": {},
   "outputs": [],
   "source": [
    "common_df = common_df.drop_duplicates(subset=['sale_id', 'date_logs', 'date_sales'])"
   ]
  },
  {
   "cell_type": "code",
   "execution_count": 60,
   "id": "96fae2bf-4c52-40a0-9901-9f3b235c2b09",
   "metadata": {},
   "outputs": [
    {
     "data": {
      "text/plain": [
       "(4609044, 10)"
      ]
     },
     "execution_count": 60,
     "metadata": {},
     "output_type": "execute_result"
    }
   ],
   "source": [
    "common_df.shape"
   ]
  },
  {
   "cell_type": "code",
   "execution_count": 61,
   "id": "6d5e9a12-867a-4999-8ee9-12d8de9b004a",
   "metadata": {},
   "outputs": [
    {
     "name": "stderr",
     "output_type": "stream",
     "text": [
      "/var/folders/lb/7x2fn5_57wj2tp98418jylg80000gp/T/ipykernel_8077/1688839373.py:1: SettingWithCopyWarning: \n",
      "A value is trying to be set on a copy of a slice from a DataFrame.\n",
      "Try using .loc[row_indexer,col_indexer] = value instead\n",
      "\n",
      "See the caveats in the documentation: https://pandas.pydata.org/pandas-docs/stable/user_guide/indexing.html#returning-a-view-versus-a-copy\n",
      "  common_df['date_sales'] = pd.to_datetime(common_df['date_sales'])\n",
      "/var/folders/lb/7x2fn5_57wj2tp98418jylg80000gp/T/ipykernel_8077/1688839373.py:2: SettingWithCopyWarning: \n",
      "A value is trying to be set on a copy of a slice from a DataFrame.\n",
      "Try using .loc[row_indexer,col_indexer] = value instead\n",
      "\n",
      "See the caveats in the documentation: https://pandas.pydata.org/pandas-docs/stable/user_guide/indexing.html#returning-a-view-versus-a-copy\n",
      "  common_df['date_logs'] = pd.to_datetime(common_df['date_logs'])\n"
     ]
    }
   ],
   "source": [
    "common_df['date_sales'] = pd.to_datetime(common_df['date_sales'])\n",
    "common_df['date_logs'] = pd.to_datetime(common_df['date_logs'])"
   ]
  },
  {
   "cell_type": "code",
   "execution_count": 62,
   "id": "7f40adec-8b79-4527-84c8-4357e935aaba",
   "metadata": {},
   "outputs": [
    {
     "name": "stderr",
     "output_type": "stream",
     "text": [
      "/var/folders/lb/7x2fn5_57wj2tp98418jylg80000gp/T/ipykernel_8077/3016924699.py:1: SettingWithCopyWarning: \n",
      "A value is trying to be set on a copy of a slice from a DataFrame.\n",
      "Try using .loc[row_indexer,col_indexer] = value instead\n",
      "\n",
      "See the caveats in the documentation: https://pandas.pydata.org/pandas-docs/stable/user_guide/indexing.html#returning-a-view-versus-a-copy\n",
      "  common_df['time_diff'] = common_df['date_sales'] - common_df['date_logs']\n"
     ]
    }
   ],
   "source": [
    "common_df['time_diff'] = common_df['date_sales'] - common_df['date_logs']"
   ]
  },
  {
   "cell_type": "code",
   "execution_count": 63,
   "id": "daf3093b-d0cf-455c-b4b0-1d2dfd7feedf",
   "metadata": {},
   "outputs": [
    {
     "data": {
      "text/html": [
       "<div>\n",
       "<style scoped>\n",
       "    .dataframe tbody tr th:only-of-type {\n",
       "        vertical-align: middle;\n",
       "    }\n",
       "\n",
       "    .dataframe tbody tr th {\n",
       "        vertical-align: top;\n",
       "    }\n",
       "\n",
       "    .dataframe thead th {\n",
       "        text-align: right;\n",
       "    }\n",
       "</style>\n",
       "<table border=\"1\" class=\"dataframe\">\n",
       "  <thead>\n",
       "    <tr style=\"text-align: right;\">\n",
       "      <th></th>\n",
       "      <th>user_id</th>\n",
       "      <th>page</th>\n",
       "      <th>date_logs</th>\n",
       "      <th>load_time</th>\n",
       "      <th>sale_id</th>\n",
       "      <th>date_sales</th>\n",
       "      <th>count_pizza</th>\n",
       "      <th>count_drink</th>\n",
       "      <th>price</th>\n",
       "      <th>time_diff</th>\n",
       "    </tr>\n",
       "  </thead>\n",
       "  <tbody>\n",
       "    <tr>\n",
       "      <th>1399</th>\n",
       "      <td>3e8ed5</td>\n",
       "      <td>m</td>\n",
       "      <td>2022-02-04 09:43:33</td>\n",
       "      <td>60.5</td>\n",
       "      <td>1000004</td>\n",
       "      <td>2022-02-04 10:03:06</td>\n",
       "      <td>1</td>\n",
       "      <td>1</td>\n",
       "      <td>750</td>\n",
       "      <td>0 days 00:19:33</td>\n",
       "    </tr>\n",
       "    <tr>\n",
       "      <th>1413</th>\n",
       "      <td>a9a6e8</td>\n",
       "      <td>m</td>\n",
       "      <td>2022-02-04 09:45:16</td>\n",
       "      <td>72.3</td>\n",
       "      <td>1000002</td>\n",
       "      <td>2022-02-04 10:02:28</td>\n",
       "      <td>1</td>\n",
       "      <td>1</td>\n",
       "      <td>930</td>\n",
       "      <td>0 days 00:17:12</td>\n",
       "    </tr>\n",
       "    <tr>\n",
       "      <th>1416</th>\n",
       "      <td>583c90</td>\n",
       "      <td>m</td>\n",
       "      <td>2022-02-04 09:45:17</td>\n",
       "      <td>58.1</td>\n",
       "      <td>1000006</td>\n",
       "      <td>2022-02-04 10:04:55</td>\n",
       "      <td>3</td>\n",
       "      <td>2</td>\n",
       "      <td>2400</td>\n",
       "      <td>0 days 00:19:38</td>\n",
       "    </tr>\n",
       "    <tr>\n",
       "      <th>1420</th>\n",
       "      <td>3e8ed5</td>\n",
       "      <td>m</td>\n",
       "      <td>2022-02-04 09:45:22</td>\n",
       "      <td>63.0</td>\n",
       "      <td>1000004</td>\n",
       "      <td>2022-02-04 10:03:06</td>\n",
       "      <td>1</td>\n",
       "      <td>1</td>\n",
       "      <td>750</td>\n",
       "      <td>0 days 00:17:44</td>\n",
       "    </tr>\n",
       "    <tr>\n",
       "      <th>1434</th>\n",
       "      <td>583c90</td>\n",
       "      <td>m</td>\n",
       "      <td>2022-02-04 09:46:30</td>\n",
       "      <td>77.9</td>\n",
       "      <td>1000006</td>\n",
       "      <td>2022-02-04 10:04:55</td>\n",
       "      <td>3</td>\n",
       "      <td>2</td>\n",
       "      <td>2400</td>\n",
       "      <td>0 days 00:18:25</td>\n",
       "    </tr>\n",
       "  </tbody>\n",
       "</table>\n",
       "</div>"
      ],
      "text/plain": [
       "     user_id page           date_logs  load_time  sale_id          date_sales  \\\n",
       "1399  3e8ed5    m 2022-02-04 09:43:33       60.5  1000004 2022-02-04 10:03:06   \n",
       "1413  a9a6e8    m 2022-02-04 09:45:16       72.3  1000002 2022-02-04 10:02:28   \n",
       "1416  583c90    m 2022-02-04 09:45:17       58.1  1000006 2022-02-04 10:04:55   \n",
       "1420  3e8ed5    m 2022-02-04 09:45:22       63.0  1000004 2022-02-04 10:03:06   \n",
       "1434  583c90    m 2022-02-04 09:46:30       77.9  1000006 2022-02-04 10:04:55   \n",
       "\n",
       "      count_pizza  count_drink  price       time_diff  \n",
       "1399            1            1    750 0 days 00:19:33  \n",
       "1413            1            1    930 0 days 00:17:12  \n",
       "1416            3            2   2400 0 days 00:19:38  \n",
       "1420            1            1    750 0 days 00:17:44  \n",
       "1434            3            2   2400 0 days 00:18:25  "
      ]
     },
     "execution_count": 63,
     "metadata": {},
     "output_type": "execute_result"
    }
   ],
   "source": [
    "common_df[(common_df['time_diff'] <= pd.Timedelta(hours=2)) & (common_df['time_diff'] >= pd.Timedelta(hours=0))].head()"
   ]
  },
  {
   "cell_type": "code",
   "execution_count": 64,
   "id": "7aba6cd6-f34b-41f7-b18e-04e6d76cb3ce",
   "metadata": {},
   "outputs": [],
   "source": [
    "time_diff = common_df[(common_df['time_diff'] <= pd.Timedelta(hours=2)) & (common_df['time_diff'] >= pd.Timedelta(hours=0))]['time_diff']"
   ]
  },
  {
   "cell_type": "code",
   "execution_count": 65,
   "id": "643f3b54-9629-4b6d-939f-2e548faa4ac3",
   "metadata": {},
   "outputs": [
    {
     "data": {
      "text/plain": [
       "7"
      ]
     },
     "execution_count": 65,
     "metadata": {},
     "output_type": "execute_result"
    }
   ],
   "source": [
    "round(time_diff.mean().total_seconds()/60)"
   ]
  },
  {
   "cell_type": "code",
   "execution_count": 66,
   "id": "12bc303f-0ec5-491d-becb-1f82fc67ebc7",
   "metadata": {},
   "outputs": [
    {
     "data": {
      "text/plain": [
       "7"
      ]
     },
     "execution_count": 66,
     "metadata": {},
     "output_type": "execute_result"
    }
   ],
   "source": [
    "round(time_diff.apply(lambda x: x.total_seconds()).mean()/60)"
   ]
  },
  {
   "cell_type": "code",
   "execution_count": null,
   "id": "43ef19e6-ad95-497c-9bf0-e78076ce8bb1",
   "metadata": {},
   "outputs": [],
   "source": []
  }
 ],
 "metadata": {
  "kernelspec": {
   "display_name": "Python [conda env:base] *",
   "language": "python",
   "name": "conda-base-py"
  },
  "language_info": {
   "codemirror_mode": {
    "name": "ipython",
    "version": 3
   },
   "file_extension": ".py",
   "mimetype": "text/x-python",
   "name": "python",
   "nbconvert_exporter": "python",
   "pygments_lexer": "ipython3",
   "version": "3.13.5"
  }
 },
 "nbformat": 4,
 "nbformat_minor": 5
}
